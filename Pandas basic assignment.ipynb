{
 "cells": [
  {
   "cell_type": "markdown",
   "id": "0ff8da18-52c2-49c1-90b3-7393b4c75e3d",
   "metadata": {},
   "source": [
    "Q1. Create a Pandas Series that contains the following data: 4, 8, 15, 16, 23, and 42. Then, print the series."
   ]
  },
  {
   "cell_type": "code",
   "execution_count": 5,
   "id": "dbe821a0-7f42-4932-8f3f-ac019830b999",
   "metadata": {},
   "outputs": [
    {
     "data": {
      "text/plain": [
       "0     4\n",
       "1     8\n",
       "2    15\n",
       "3    16\n",
       "4    23\n",
       "5    42\n",
       "dtype: int64"
      ]
     },
     "execution_count": 5,
     "metadata": {},
     "output_type": "execute_result"
    }
   ],
   "source": [
    "import pandas as pd \n",
    "data = [4,8,15,16,23,42]\n",
    "df = pd.Series(data)\n",
    "df"
   ]
  },
  {
   "cell_type": "code",
   "execution_count": null,
   "id": "dfbce310-97a0-4c6a-a31d-d6bfb9978869",
   "metadata": {},
   "outputs": [],
   "source": []
  },
  {
   "cell_type": "markdown",
   "id": "53aa1e01-3e57-4389-8c30-52da0d5fd9fc",
   "metadata": {},
   "source": [
    "Q2. Create a variable of list type containing 10 elements in it, and apply pandas.Series function on the\n",
    "variable print it."
   ]
  },
  {
   "cell_type": "code",
   "execution_count": 6,
   "id": "7029ccfe-9be0-4ae3-96f3-7fb2e41b4e83",
   "metadata": {},
   "outputs": [
    {
     "data": {
      "text/plain": [
       "0    1\n",
       "1    2\n",
       "2    1\n",
       "3    3\n",
       "4    4\n",
       "5    5\n",
       "6    6\n",
       "7    7\n",
       "8    8\n",
       "9    9\n",
       "dtype: int64"
      ]
     },
     "execution_count": 6,
     "metadata": {},
     "output_type": "execute_result"
    }
   ],
   "source": [
    "import pandas as pd\n",
    "data_1 = [1,2,1,3,4,5,6,7,8,9]\n",
    "df = pd.Series(data_1)\n",
    "df"
   ]
  },
  {
   "cell_type": "code",
   "execution_count": null,
   "id": "0df78cca-a3ad-48dc-99b9-da96cb24e986",
   "metadata": {},
   "outputs": [],
   "source": []
  },
  {
   "cell_type": "markdown",
   "id": "a93e21a5-63e7-456b-8328-574e580699d5",
   "metadata": {},
   "source": [
    "Q3. Create a Pandas DataFrame that contains the following data:"
   ]
  },
  {
   "cell_type": "code",
   "execution_count": 1,
   "id": "1daee450-c72f-4ad7-8c7c-4b54b7d0f6cc",
   "metadata": {},
   "outputs": [
    {
     "name": "stdout",
     "output_type": "stream",
     "text": [
      "     Name  Age  Gender\n",
      "0   Alice   25  Female\n",
      "1     Bob   30    Male\n",
      "2  Claire   27  Female\n"
     ]
    }
   ],
   "source": [
    "my_dic = {\n",
    "    \"Name\" : [\"Alice\" , \"Bob\", \"Claire\"],\n",
    "    \"Age\"  : [25     ,30,  27],\n",
    "    \"Gender\" : [\"Female\" ,\"Male\",\"Female\"]\n",
    "}\n",
    "import pandas as pd\n",
    "df = pd.DataFrame(my_dic)\n",
    "print(df)"
   ]
  },
  {
   "cell_type": "code",
   "execution_count": null,
   "id": "1030a45b-9dbe-4b76-9b10-23fa96974fc8",
   "metadata": {},
   "outputs": [],
   "source": []
  },
  {
   "cell_type": "markdown",
   "id": "e790a175-f8ca-47fe-9a1c-ae2e4377045c",
   "metadata": {},
   "source": [
    "Q4. What is ‘DataFrame’ in pandas and how is it different from pandas.series? Explain with an example."
   ]
  },
  {
   "cell_type": "markdown",
   "id": "4f38a3dd-1744-4822-99af-93a67524dac7",
   "metadata": {},
   "source": [
    "DataFrame-\n",
    "   1)2-dimensional tabular data structure.\n",
    "   2)Has rows and columns.\n",
    "   3)Similar to a spreadsheet or SQL table.\n",
    "   \n",
    "Series-   \n",
    "   1)1-dimensional array-like object.\n",
    "   2)Contains a sequence of values\n",
    "   3)Essentially a single column of a DataFrame.\n",
    "     \n",
    "   "
   ]
  },
  {
   "cell_type": "code",
   "execution_count": 4,
   "id": "5e887a40-6737-451d-a365-f49afc56a315",
   "metadata": {},
   "outputs": [],
   "source": [
    "import pandas as pd\n",
    "\n",
    "# Series\n",
    "data = [10, 20, 30, 40]\n",
    "series = pd.Series(data)\n",
    "\n",
    "# DataFrame\n",
    "data = {'Name': ['Monu', 'Bablu', 'Chirag'], 'Age': [25, 30, 35]}\n",
    "df = pd.DataFrame(data)"
   ]
  },
  {
   "cell_type": "code",
   "execution_count": null,
   "id": "19c3dfae-ba13-4cfd-85ce-fda691b250ea",
   "metadata": {},
   "outputs": [],
   "source": []
  },
  {
   "cell_type": "markdown",
   "id": "64ecbb3c-a8bf-4047-8a3b-d704d9cf6128",
   "metadata": {},
   "source": [
    "Q5. What are some common functions you can use to manipulate data in a Pandas DataFrame? Can\n",
    "you give an example of when you might use one of these functions?"
   ]
  },
  {
   "cell_type": "markdown",
   "id": "e0a37b05-a1c3-4a6c-b5a0-ad0055795328",
   "metadata": {},
   "source": [
    " some common functions to manipulate data in a Pandas DataFrame are:\n",
    " \n",
    "   1)head() and tail(): To view the first or last few rows of the DataFrame.\n",
    "   2)info(): To get a concise summary of the DataFrame's structure and data types.\n",
    "   3)describe(): To generate descriptive statistics for the numeric columns.\n",
    "   4)sort_values(): To sort the DataFrame based on one or more columns.\n",
    "   5)groupby(): To group the data based on specific columns and perform aggregate functions.\n",
    "   6)apply(): To apply custom functions to each element or row of the DataFrame for transformations.\n",
    " \n",
    " "
   ]
  },
  {
   "cell_type": "code",
   "execution_count": 5,
   "id": "3be3b379-e3ee-4b8f-b7a2-39e575a7e80f",
   "metadata": {},
   "outputs": [
    {
     "name": "stdout",
     "output_type": "stream",
     "text": [
      "First two rows:\n",
      "    Name  Age  Grade\n",
      "0  Alice   25     87\n",
      "1    Bob   23     90\n",
      "\n",
      "Last three rows:\n",
      "      Name  Age  Grade\n",
      "2  Charlie   22     78\n",
      "3    David   24     95\n",
      "4      Eva   26     82\n",
      "\n",
      "DataFrame Info:\n",
      "<class 'pandas.core.frame.DataFrame'>\n",
      "RangeIndex: 5 entries, 0 to 4\n",
      "Data columns (total 3 columns):\n",
      " #   Column  Non-Null Count  Dtype \n",
      "---  ------  --------------  ----- \n",
      " 0   Name    5 non-null      object\n",
      " 1   Age     5 non-null      int64 \n",
      " 2   Grade   5 non-null      int64 \n",
      "dtypes: int64(2), object(1)\n",
      "memory usage: 248.0+ bytes\n",
      "None\n",
      "\n",
      "Descriptive Statistics:\n",
      "             Age      Grade\n",
      "count   5.000000   5.000000\n",
      "mean   24.000000  86.400000\n",
      "std     1.581139   6.655825\n",
      "min    22.000000  78.000000\n",
      "25%    23.000000  82.000000\n",
      "50%    24.000000  87.000000\n",
      "75%    25.000000  90.000000\n",
      "max    26.000000  95.000000\n",
      "\n",
      "Sorted DataFrame:\n",
      "      Name  Age  Grade\n",
      "3    David   24     95\n",
      "1      Bob   23     90\n",
      "0    Alice   25     87\n",
      "4      Eva   26     82\n",
      "2  Charlie   22     78\n",
      "\n",
      "Grouped DataFrame:\n",
      "Age\n",
      "22    78.0\n",
      "23    90.0\n",
      "24    95.0\n",
      "25    87.0\n",
      "26    82.0\n",
      "Name: Grade, dtype: float64\n"
     ]
    }
   ],
   "source": [
    "import pandas as pd\n",
    "\n",
    "# Creating a sample DataFrame\n",
    "data = {\n",
    "    'Name': ['Alice', 'Bob', 'Charlie', 'David', 'Eva'],\n",
    "    'Age': [25, 23, 22, 24, 26],\n",
    "    'Grade': [87, 90, 78, 95, 82]\n",
    "}\n",
    "\n",
    "df = pd.DataFrame(data)\n",
    "\n",
    "# Displaying the first two rows\n",
    "print(\"First two rows:\")\n",
    "print(df.head(2))\n",
    "\n",
    "# Displaying the last three rows\n",
    "print(\"\\nLast three rows:\")\n",
    "print(df.tail(3))\n",
    "\n",
    "# Getting information about the DataFrame\n",
    "print(\"\\nDataFrame Info:\")\n",
    "print(df.info())\n",
    "\n",
    "# Descriptive statistics for the numeric columns\n",
    "print(\"\\nDescriptive Statistics:\")\n",
    "print(df.describe())\n",
    "\n",
    "# Sorting the DataFrame by the 'Grade' column in descending order\n",
    "sorted_df = df.sort_values(by='Grade', ascending=False)\n",
    "print(\"\\nSorted DataFrame:\")\n",
    "print(sorted_df)\n",
    "\n",
    "# Grouping the data by the 'Age' column and calculating the average grade for each age group\n",
    "grouped_df = df.groupby('Age')['Grade'].mean()\n",
    "print(\"\\nGrouped DataFrame:\")\n",
    "print(grouped_df)"
   ]
  },
  {
   "cell_type": "code",
   "execution_count": null,
   "id": "3510936d-464a-4551-9e16-4de2077c86a5",
   "metadata": {},
   "outputs": [],
   "source": []
  },
  {
   "cell_type": "markdown",
   "id": "cdb9bdab-f1c4-4105-b086-7218d1ae9a86",
   "metadata": {},
   "source": [
    "Q6. Which of the following is mutable in nature Series, DataFrame, Panel?"
   ]
  },
  {
   "cell_type": "markdown",
   "id": "aa045596-c3a0-43ee-9860-a77846238afb",
   "metadata": {},
   "source": [
    " Both Series and DataFrame are mutable in nature, meaning you can modify their contents after creation.\n",
    " On the other hand, Panel is not mutable; it is an immutable data structure."
   ]
  },
  {
   "cell_type": "code",
   "execution_count": null,
   "id": "b7f257c4-f05c-42f0-a16b-663d90227992",
   "metadata": {},
   "outputs": [],
   "source": []
  },
  {
   "cell_type": "markdown",
   "id": "5cc1282e-0a93-4abd-8a9d-e66c29cfe708",
   "metadata": {},
   "source": [
    "Q7. Create a DataFrame using multiple Series. Explain with an example."
   ]
  },
  {
   "cell_type": "code",
   "execution_count": 6,
   "id": "b65ea4f4-908a-4c0f-8164-dea21506013b",
   "metadata": {},
   "outputs": [
    {
     "data": {
      "text/html": [
       "<div>\n",
       "<style scoped>\n",
       "    .dataframe tbody tr th:only-of-type {\n",
       "        vertical-align: middle;\n",
       "    }\n",
       "\n",
       "    .dataframe tbody tr th {\n",
       "        vertical-align: top;\n",
       "    }\n",
       "\n",
       "    .dataframe thead th {\n",
       "        text-align: right;\n",
       "    }\n",
       "</style>\n",
       "<table border=\"1\" class=\"dataframe\">\n",
       "  <thead>\n",
       "    <tr style=\"text-align: right;\">\n",
       "      <th></th>\n",
       "      <th>Name</th>\n",
       "      <th>Age</th>\n",
       "      <th>Grades</th>\n",
       "    </tr>\n",
       "  </thead>\n",
       "  <tbody>\n",
       "    <tr>\n",
       "      <th>0</th>\n",
       "      <td>BOB</td>\n",
       "      <td>20</td>\n",
       "      <td>50</td>\n",
       "    </tr>\n",
       "    <tr>\n",
       "      <th>1</th>\n",
       "      <td>jane</td>\n",
       "      <td>31</td>\n",
       "      <td>33</td>\n",
       "    </tr>\n",
       "  </tbody>\n",
       "</table>\n",
       "</div>"
      ],
      "text/plain": [
       "   Name  Age  Grades\n",
       "0   BOB   20      50\n",
       "1  jane   31      33"
      ]
     },
     "execution_count": 6,
     "metadata": {},
     "output_type": "execute_result"
    }
   ],
   "source": [
    "import pandas as pd \n",
    "names = pd.Series([\"BOB\" , \"jane\"])\n",
    "age = pd.Series([20,31])\n",
    "grades = pd.Series([50,33])\n",
    "\n",
    "data = {\n",
    "    \"Name\" : names,\n",
    "    \"Age\": age,\n",
    "    \"Grades\": grades\n",
    "}\n",
    "df = pd.DataFrame(data)\n",
    "df"
   ]
  },
  {
   "cell_type": "code",
   "execution_count": null,
   "id": "4fb79938-e555-4eb8-a44b-78996fa23177",
   "metadata": {},
   "outputs": [],
   "source": []
  },
  {
   "cell_type": "code",
   "execution_count": null,
   "id": "ec8071da-5092-484c-a83a-33b5ed04bd60",
   "metadata": {},
   "outputs": [],
   "source": []
  },
  {
   "cell_type": "code",
   "execution_count": null,
   "id": "9d2837ed-459e-45c8-a296-e1a37f3990df",
   "metadata": {},
   "outputs": [],
   "source": []
  },
  {
   "cell_type": "code",
   "execution_count": null,
   "id": "f2bfc7e0-8ab6-4c1e-b139-f89447bb1efb",
   "metadata": {},
   "outputs": [],
   "source": []
  },
  {
   "cell_type": "code",
   "execution_count": null,
   "id": "bb3a66ac-aae3-477e-97b1-053c96f2cead",
   "metadata": {},
   "outputs": [],
   "source": []
  },
  {
   "cell_type": "code",
   "execution_count": null,
   "id": "edc5e5c8-9d15-43cf-b34c-fd064354f391",
   "metadata": {},
   "outputs": [],
   "source": []
  }
 ],
 "metadata": {
  "kernelspec": {
   "display_name": "Python 3 (ipykernel)",
   "language": "python",
   "name": "python3"
  },
  "language_info": {
   "codemirror_mode": {
    "name": "ipython",
    "version": 3
   },
   "file_extension": ".py",
   "mimetype": "text/x-python",
   "name": "python",
   "nbconvert_exporter": "python",
   "pygments_lexer": "ipython3",
   "version": "3.10.8"
  }
 },
 "nbformat": 4,
 "nbformat_minor": 5
}
